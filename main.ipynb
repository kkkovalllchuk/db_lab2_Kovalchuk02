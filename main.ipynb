{
 "cells": [
  {
   "cell_type": "code",
   "execution_count": 36,
   "metadata": {},
   "outputs": [
    {
     "name": "stdout",
     "output_type": "stream",
     "text": [
      "\n",
      "1. The number of views of each video.\n",
      "('What is MSG, and is it actually bad for you?                               ', 2100000)\n",
      "('Earths mysterious red glow, explained                                      ', 583000)\n",
      "('Why is China appointing judges to combat..                                 ', 427000)\n",
      "('How play can spark new ideas for your business                             ', 412000)\n",
      "('Climate action needs new frontline leadership                              ', 404000)\n",
      "('The dark history of the overthrow of Hawaii                                ', 214000)\n",
      "('Cements carbon problem — and 2 ways to fix it                              ', 2400)\n",
      "\n",
      "2.Number of likes for each author.\n",
      "('Sarah E. Tracy                                                             ', 64000)\n",
      "('Zoe Pierrat                                                                ', 17000)\n",
      "('Ozawa Bineshi Albert                                                       ', 12000)\n",
      "('James K. Thornton                                                          ', 12000)\n",
      "('Martin Reeves                                                              ', 12000)\n",
      "('Sydney Iaukea                                                              ', 6400)\n",
      "('Mahendra Singhi                                                            ', 72)\n",
      "\n",
      "3. Likes depending on the date\n",
      "(17000, 'September 2021           ')\n",
      "(64000, 'September 2021           ')\n",
      "(12000, 'September 2021           ')\n",
      "(12000, 'October 2021             ')\n",
      "(72, 'October 2021             ')\n",
      "(6400, 'February 2022            ')\n",
      "(12000, 'December 2021            ')\n"
     ]
    }
   ],
   "source": [
    "import psycopg2\n",
    "\n",
    "username = 'postgres'\n",
    "password = 'postgres'\n",
    "database = 'KOVALCHUK__02'\n",
    "host = 'localhost'\n",
    "port = '5432'\n",
    "\n",
    "query_1 = '''\n",
    "select title,views from main\n",
    "join date_ted ON date_ted.m_id = main.m_id\n",
    "join views_likes ON views_likes.date_id = date_ted.date_id\n",
    "order by 2 desc\n",
    "'''\n",
    "query_2 = '''\n",
    "select author,likes from main\n",
    "join date_ted ON date_ted.m_id = main.m_id\n",
    "join views_likes ON views_likes.date_id = date_ted.date_id\n",
    "order by 2 desc\n",
    "'''\n",
    "query_3 = '''\n",
    "select likes,date_ted from main\n",
    "join date_ted ON date_ted.m_id = main.m_id\n",
    "join views_likes ON views_likes.date_id = date_ted.date_id\n",
    "order by 2 desc\n",
    "'''\n",
    "\n",
    "conn = psycopg2.connect(user=username, password=password,\n",
    "                        dbname=database, host=host, port=port)\n",
    "\n",
    "with conn:\n",
    "\n",
    "    cur = conn.cursor()\n",
    "    print('\\n1. The number of views of each video.')\n",
    "    cur.execute(query_1)\n",
    "    for row in cur:\n",
    "        print(row)\n",
    "\n",
    "    print('\\n2.Number of likes for each author.')\n",
    "    cur.execute(query_2)\n",
    "    for row in cur:\n",
    "        print(row)\n",
    "\n",
    "    print('\\n3. Likes depending on the date')\n",
    "    cur.execute(query_3)\n",
    "    for row in cur:\n",
    "        print(row)\n"
   ]
  }
 ],
 "metadata": {
  "kernelspec": {
   "display_name": "Python 3.8.5 64-bit",
   "language": "python",
   "name": "python3"
  },
  "language_info": {
   "codemirror_mode": {
    "name": "ipython",
    "version": 3
   },
   "file_extension": ".py",
   "mimetype": "text/x-python",
   "name": "python",
   "nbconvert_exporter": "python",
   "pygments_lexer": "ipython3",
   "version": "3.8.5"
  },
  "orig_nbformat": 4,
  "vscode": {
   "interpreter": {
    "hash": "fec0f209dd490a289f394c0c762328be77b4454d699732d27a536e3e32860e22"
   }
  }
 },
 "nbformat": 4,
 "nbformat_minor": 2
}
